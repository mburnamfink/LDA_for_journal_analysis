{
 "cells": [
  {
   "cell_type": "code",
   "execution_count": 1,
   "metadata": {},
   "outputs": [],
   "source": [
    "# gensim\n",
    "from gensim import corpora, models, similarities, matutils\n",
    "# sklearn\n",
    "from sklearn import datasets\n",
    "from sklearn.feature_extraction.text import CountVectorizer, HashingVectorizer\n",
    "from sklearn.cluster import KMeans\n",
    "# logging for gensim (set to INFO)\n",
    "import logging\n",
    "logging.basicConfig(format='%(asctime)s : %(levelname)s : %(message)s', level=logging.INFO)\n",
    "\n",
    "import pymongo as pm\n",
    "import metaknowledge as mk\n",
    "import os\n",
    "import pyprind\n",
    "import pickle\n",
    "import spacy\n",
    "import numpy as np\n",
    "import time\n",
    "\n",
    "from sklearn.metrics.pairwise import cosine_similarity\n",
    "from scipy.sparse import coo_matrix\n",
    "from scipy.spatial.distance import cosine\n",
    "from scipy.stats import entropy\n",
    "from numpy.linalg import norm\n",
    "\n",
    "import seaborn as sns\n",
    "%matplotlib inline"
   ]
  },
  {
   "cell_type": "markdown",
   "metadata": {},
   "source": [
    "This notebook generates an LDA topic model from the notebook, and also calculates a variety of summary statisticis."
   ]
  },
  {
   "cell_type": "code",
   "execution_count": 2,
   "metadata": {},
   "outputs": [],
   "source": [
    "client = pm.MongoClient()\n",
    "local = client.local\n",
    "local.list_collection_names()\n",
    "fletcher = local.get_collection('fletcher')"
   ]
  },
  {
   "cell_type": "code",
   "execution_count": 3,
   "metadata": {},
   "outputs": [
    {
     "name": "stderr",
     "output_type": "stream",
     "text": [
      "/home/michael/.local/lib/python3.6/site-packages/ipykernel_launcher.py:1: DeprecationWarning: count is deprecated. Use estimated_document_count or count_documents instead. Please note that $where must be replaced by $expr, $near must be replaced by $geoWithin with $center, and $nearSphere must be replaced by $geoWithin with $centerSphere\n",
      "  \"\"\"Entry point for launching an IPython kernel.\n",
      "0% [##############################] 100% | ETA: 00:00:00\n",
      "Total time elapsed: 00:00:14\n"
     ]
    }
   ],
   "source": [
    "progbar = pyprind.ProgBar(fletcher.count())\n",
    "\n",
    "data = {}\n",
    "\n",
    "for a in fletcher.find():\n",
    "    try:\n",
    "        if a['AB']:\n",
    "            data[a['_id']]=a['AB']\n",
    "    except:\n",
    "        pass\n",
    "    progbar.update()"
   ]
  },
  {
   "cell_type": "markdown",
   "metadata": {},
   "source": [
    "CountVectorizer creates a vectorized dictionary to feed into the Gensim LDA topic model.  An an input, CountVectorizer likes a list of strings, so the lemmatizer function defined below creates cleaned abstracts with the words all set to lowercase and lemmatized as a clean input."
   ]
  },
  {
   "cell_type": "code",
   "execution_count": 4,
   "metadata": {},
   "outputs": [],
   "source": [
    "from nltk.stem import PorterStemmer, WordNetLemmatizer\n",
    "from nltk.corpus import stopwords\n",
    "\n",
    "import string\n",
    "\n",
    "stop = stopwords.words('english')\n",
    "\n",
    "table = str.maketrans({key: None for key in string.punctuation})\n",
    " \n",
    "stemmer = PorterStemmer()\n",
    "lemmatiser = WordNetLemmatizer()\n",
    "\n",
    "def lemmatization(abstract):\n",
    "    words = abstract.split(' ')\n",
    "    out = []\n",
    "    for word in words:\n",
    "        word = word.lower()\n",
    "        word = word.translate(table)\n",
    "        if word not in stop:\n",
    "            lem = lemmatiser.lemmatize(word)\n",
    "            if lem != '':\n",
    "                out.append(lem)\n",
    "        \n",
    "    return (' '.join(out))"
   ]
  },
  {
   "cell_type": "code",
   "execution_count": 5,
   "metadata": {},
   "outputs": [
    {
     "name": "stderr",
     "output_type": "stream",
     "text": [
      "0% [##############################] 100% | ETA: 00:00:00\n",
      "Total time elapsed: 00:01:21\n"
     ]
    }
   ],
   "source": [
    "abstracts = []\n",
    "for x in data:\n",
    "    abstracts.append(data[x])\n",
    "\n",
    "progbar = pyprind.ProgBar(len(abstracts))\n",
    "    \n",
    "abs_lemma =[]\n",
    "\n",
    "for ab in abstracts:\n",
    "    abs_lemma.append(lemmatization(ab))\n",
    "    progbar.update()"
   ]
  },
  {
   "cell_type": "markdown",
   "metadata": {},
   "source": [
    "These cells do the heavy lifting for the NLP, and take about 45 minutes to run.  As such I recommend using the first cell below to load the items from disk.\n",
    "\n",
    "Parameter search suggested using trigrams, a mimumum document frequency frequency of 3, maximum document freqeuncy of 0.1, and a topic minimum probability of 0.003 gives acceptable results."
   ]
  },
  {
   "cell_type": "code",
   "execution_count": 7,
   "metadata": {},
   "outputs": [
    {
     "name": "stderr",
     "output_type": "stream",
     "text": [
      "2018-11-20 11:13:19,346 : INFO : loading LdaModel object from models/lda40x3trim0-1.model\n",
      "2018-11-20 11:13:19,366 : INFO : loading expElogbeta from models/lda40x3trim0-1.model.expElogbeta.npy with mmap=r\n",
      "2018-11-20 11:13:19,368 : INFO : setting ignored attribute dispatcher to None\n",
      "2018-11-20 11:13:19,371 : INFO : setting ignored attribute id2word to None\n",
      "2018-11-20 11:13:19,372 : INFO : setting ignored attribute state to None\n",
      "2018-11-20 11:13:19,373 : INFO : loaded models/lda40x3trim0-1.model\n",
      "2018-11-20 11:13:19,373 : INFO : loading LdaState object from models/lda40x3trim0-1.model.state\n",
      "2018-11-20 11:13:19,388 : INFO : loading sstats from models/lda40x3trim0-1.model.state.sstats.npy with mmap=r\n",
      "2018-11-20 11:13:19,417 : INFO : loaded models/lda40x3trim0-1.model.state\n"
     ]
    }
   ],
   "source": [
    "#loading cell. Skip if running for first time.\n",
    "\n",
    "model = models.LdaModel.load('models/lda40x3trim0-1.model', mmap='r')"
   ]
  },
  {
   "cell_type": "code",
   "execution_count": 4,
   "metadata": {},
   "outputs": [
    {
     "name": "stderr",
     "output_type": "stream",
     "text": [
      "2018-11-20 09:42:21,183 : INFO : loading LdaModel object from models/lda40x3trim0-1.model\n"
     ]
    },
    {
     "ename": "FileNotFoundError",
     "evalue": "[Errno 2] No such file or directory: 'models/lda40x3trim0-1.model'",
     "output_type": "error",
     "traceback": [
      "\u001b[0;31m---------------------------------------------------------------------------\u001b[0m",
      "\u001b[0;31mFileNotFoundError\u001b[0m                         Traceback (most recent call last)",
      "\u001b[0;32m<ipython-input-4-408e521457b7>\u001b[0m in \u001b[0;36m<module>\u001b[0;34m\u001b[0m\n\u001b[0;32m----> 1\u001b[0;31m \u001b[0mmodel\u001b[0m \u001b[0;34m=\u001b[0m \u001b[0mmodels\u001b[0m\u001b[0;34m.\u001b[0m\u001b[0mLdaModel\u001b[0m\u001b[0;34m.\u001b[0m\u001b[0mload\u001b[0m\u001b[0;34m(\u001b[0m\u001b[0;34m'models/lda40x3trim0-1.model'\u001b[0m\u001b[0;34m,\u001b[0m \u001b[0mmmap\u001b[0m\u001b[0;34m=\u001b[0m\u001b[0;34m'r'\u001b[0m\u001b[0;34m)\u001b[0m\u001b[0;34m\u001b[0m\u001b[0m\n\u001b[0m\u001b[1;32m      2\u001b[0m \u001b[0mcount_vectorizer\u001b[0m \u001b[0;34m=\u001b[0m \u001b[0mpickle\u001b[0m\u001b[0;34m.\u001b[0m\u001b[0mload\u001b[0m\u001b[0;34m(\u001b[0m\u001b[0mopen\u001b[0m\u001b[0;34m(\u001b[0m\u001b[0;34m\"count_vectorizer.pickle\"\u001b[0m\u001b[0;34m,\u001b[0m\u001b[0;34m\"rb\"\u001b[0m\u001b[0;34m)\u001b[0m\u001b[0;34m)\u001b[0m\u001b[0;34m\u001b[0m\u001b[0m\n\u001b[1;32m      3\u001b[0m \u001b[0mcounts\u001b[0m \u001b[0;34m=\u001b[0m \u001b[0mpickle\u001b[0m\u001b[0;34m.\u001b[0m\u001b[0mload\u001b[0m\u001b[0;34m(\u001b[0m\u001b[0mopen\u001b[0m\u001b[0;34m(\u001b[0m\u001b[0;34m\"counts.pickle\"\u001b[0m\u001b[0;34m,\u001b[0m\u001b[0;34m\"rb\"\u001b[0m\u001b[0;34m)\u001b[0m\u001b[0;34m)\u001b[0m\u001b[0;34m\u001b[0m\u001b[0m\n\u001b[1;32m      4\u001b[0m \u001b[0mcorpus\u001b[0m \u001b[0;34m=\u001b[0m \u001b[0mpickle\u001b[0m\u001b[0;34m.\u001b[0m\u001b[0mload\u001b[0m\u001b[0;34m(\u001b[0m\u001b[0mopen\u001b[0m\u001b[0;34m(\u001b[0m\u001b[0;34m\"corpus.pickle\"\u001b[0m\u001b[0;34m,\u001b[0m\u001b[0;34m\"rb\"\u001b[0m\u001b[0;34m)\u001b[0m\u001b[0;34m)\u001b[0m\u001b[0;34m\u001b[0m\u001b[0m\n\u001b[1;32m      5\u001b[0m \u001b[0mid2word\u001b[0m \u001b[0;34m=\u001b[0m \u001b[0mpickle\u001b[0m\u001b[0;34m.\u001b[0m\u001b[0mload\u001b[0m\u001b[0;34m(\u001b[0m\u001b[0mopen\u001b[0m\u001b[0;34m(\u001b[0m\u001b[0;34m\"id2word.pickle\"\u001b[0m\u001b[0;34m,\u001b[0m\u001b[0;34m\"rb\"\u001b[0m\u001b[0;34m)\u001b[0m\u001b[0;34m)\u001b[0m\u001b[0;34m\u001b[0m\u001b[0m\n",
      "\u001b[0;32m~/.local/lib/python3.6/site-packages/gensim/models/ldamodel.py\u001b[0m in \u001b[0;36mload\u001b[0;34m(cls, fname, *args, **kwargs)\u001b[0m\n\u001b[1;32m   1612\u001b[0m         \"\"\"\n\u001b[1;32m   1613\u001b[0m         \u001b[0mkwargs\u001b[0m\u001b[0;34m[\u001b[0m\u001b[0;34m'mmap'\u001b[0m\u001b[0;34m]\u001b[0m \u001b[0;34m=\u001b[0m \u001b[0mkwargs\u001b[0m\u001b[0;34m.\u001b[0m\u001b[0mget\u001b[0m\u001b[0;34m(\u001b[0m\u001b[0;34m'mmap'\u001b[0m\u001b[0;34m,\u001b[0m \u001b[0;32mNone\u001b[0m\u001b[0;34m)\u001b[0m\u001b[0;34m\u001b[0m\u001b[0m\n\u001b[0;32m-> 1614\u001b[0;31m         \u001b[0mresult\u001b[0m \u001b[0;34m=\u001b[0m \u001b[0msuper\u001b[0m\u001b[0;34m(\u001b[0m\u001b[0mLdaModel\u001b[0m\u001b[0;34m,\u001b[0m \u001b[0mcls\u001b[0m\u001b[0;34m)\u001b[0m\u001b[0;34m.\u001b[0m\u001b[0mload\u001b[0m\u001b[0;34m(\u001b[0m\u001b[0mfname\u001b[0m\u001b[0;34m,\u001b[0m \u001b[0;34m*\u001b[0m\u001b[0margs\u001b[0m\u001b[0;34m,\u001b[0m \u001b[0;34m**\u001b[0m\u001b[0mkwargs\u001b[0m\u001b[0;34m)\u001b[0m\u001b[0;34m\u001b[0m\u001b[0m\n\u001b[0m\u001b[1;32m   1615\u001b[0m \u001b[0;34m\u001b[0m\u001b[0m\n\u001b[1;32m   1616\u001b[0m         \u001b[0;31m# check if `random_state` attribute has been set after main pickle load\u001b[0m\u001b[0;34m\u001b[0m\u001b[0;34m\u001b[0m\u001b[0m\n",
      "\u001b[0;32m~/.local/lib/python3.6/site-packages/gensim/utils.py\u001b[0m in \u001b[0;36mload\u001b[0;34m(cls, fname, mmap)\u001b[0m\n\u001b[1;32m    420\u001b[0m         \u001b[0mcompress\u001b[0m\u001b[0;34m,\u001b[0m \u001b[0msubname\u001b[0m \u001b[0;34m=\u001b[0m \u001b[0mSaveLoad\u001b[0m\u001b[0;34m.\u001b[0m\u001b[0m_adapt_by_suffix\u001b[0m\u001b[0;34m(\u001b[0m\u001b[0mfname\u001b[0m\u001b[0;34m)\u001b[0m\u001b[0;34m\u001b[0m\u001b[0m\n\u001b[1;32m    421\u001b[0m \u001b[0;34m\u001b[0m\u001b[0m\n\u001b[0;32m--> 422\u001b[0;31m         \u001b[0mobj\u001b[0m \u001b[0;34m=\u001b[0m \u001b[0munpickle\u001b[0m\u001b[0;34m(\u001b[0m\u001b[0mfname\u001b[0m\u001b[0;34m)\u001b[0m\u001b[0;34m\u001b[0m\u001b[0m\n\u001b[0m\u001b[1;32m    423\u001b[0m         \u001b[0mobj\u001b[0m\u001b[0;34m.\u001b[0m\u001b[0m_load_specials\u001b[0m\u001b[0;34m(\u001b[0m\u001b[0mfname\u001b[0m\u001b[0;34m,\u001b[0m \u001b[0mmmap\u001b[0m\u001b[0;34m,\u001b[0m \u001b[0mcompress\u001b[0m\u001b[0;34m,\u001b[0m \u001b[0msubname\u001b[0m\u001b[0;34m)\u001b[0m\u001b[0;34m\u001b[0m\u001b[0m\n\u001b[1;32m    424\u001b[0m         \u001b[0mlogger\u001b[0m\u001b[0;34m.\u001b[0m\u001b[0minfo\u001b[0m\u001b[0;34m(\u001b[0m\u001b[0;34m\"loaded %s\"\u001b[0m\u001b[0;34m,\u001b[0m \u001b[0mfname\u001b[0m\u001b[0;34m)\u001b[0m\u001b[0;34m\u001b[0m\u001b[0m\n",
      "\u001b[0;32m~/.local/lib/python3.6/site-packages/gensim/utils.py\u001b[0m in \u001b[0;36munpickle\u001b[0;34m(fname)\u001b[0m\n\u001b[1;32m   1356\u001b[0m \u001b[0;34m\u001b[0m\u001b[0m\n\u001b[1;32m   1357\u001b[0m     \"\"\"\n\u001b[0;32m-> 1358\u001b[0;31m     \u001b[0;32mwith\u001b[0m \u001b[0msmart_open\u001b[0m\u001b[0;34m(\u001b[0m\u001b[0mfname\u001b[0m\u001b[0;34m,\u001b[0m \u001b[0;34m'rb'\u001b[0m\u001b[0;34m)\u001b[0m \u001b[0;32mas\u001b[0m \u001b[0mf\u001b[0m\u001b[0;34m:\u001b[0m\u001b[0;34m\u001b[0m\u001b[0m\n\u001b[0m\u001b[1;32m   1359\u001b[0m         \u001b[0;31m# Because of loading from S3 load can't be used (missing readline in smart_open)\u001b[0m\u001b[0;34m\u001b[0m\u001b[0;34m\u001b[0m\u001b[0m\n\u001b[1;32m   1360\u001b[0m         \u001b[0;32mif\u001b[0m \u001b[0msys\u001b[0m\u001b[0;34m.\u001b[0m\u001b[0mversion_info\u001b[0m \u001b[0;34m>\u001b[0m \u001b[0;34m(\u001b[0m\u001b[0;36m3\u001b[0m\u001b[0;34m,\u001b[0m \u001b[0;36m0\u001b[0m\u001b[0;34m)\u001b[0m\u001b[0;34m:\u001b[0m\u001b[0;34m\u001b[0m\u001b[0m\n",
      "\u001b[0;32m~/.local/lib/python3.6/site-packages/smart_open/smart_open_lib.py\u001b[0m in \u001b[0;36msmart_open\u001b[0;34m(uri, mode, **kw)\u001b[0m\n\u001b[1;32m    179\u001b[0m         \u001b[0;32mraise\u001b[0m \u001b[0mTypeError\u001b[0m\u001b[0;34m(\u001b[0m\u001b[0;34m'mode should be a string'\u001b[0m\u001b[0;34m)\u001b[0m\u001b[0;34m\u001b[0m\u001b[0m\n\u001b[1;32m    180\u001b[0m \u001b[0;34m\u001b[0m\u001b[0m\n\u001b[0;32m--> 181\u001b[0;31m     \u001b[0mfobj\u001b[0m \u001b[0;34m=\u001b[0m \u001b[0m_shortcut_open\u001b[0m\u001b[0;34m(\u001b[0m\u001b[0muri\u001b[0m\u001b[0;34m,\u001b[0m \u001b[0mmode\u001b[0m\u001b[0;34m,\u001b[0m \u001b[0;34m**\u001b[0m\u001b[0mkw\u001b[0m\u001b[0;34m)\u001b[0m\u001b[0;34m\u001b[0m\u001b[0m\n\u001b[0m\u001b[1;32m    182\u001b[0m     \u001b[0;32mif\u001b[0m \u001b[0mfobj\u001b[0m \u001b[0;32mis\u001b[0m \u001b[0;32mnot\u001b[0m \u001b[0;32mNone\u001b[0m\u001b[0;34m:\u001b[0m\u001b[0;34m\u001b[0m\u001b[0m\n\u001b[1;32m    183\u001b[0m         \u001b[0;32mreturn\u001b[0m \u001b[0mfobj\u001b[0m\u001b[0;34m\u001b[0m\u001b[0m\n",
      "\u001b[0;32m~/.local/lib/python3.6/site-packages/smart_open/smart_open_lib.py\u001b[0m in \u001b[0;36m_shortcut_open\u001b[0;34m(uri, mode, **kw)\u001b[0m\n\u001b[1;32m    299\u001b[0m     \u001b[0;31m#\u001b[0m\u001b[0;34m\u001b[0m\u001b[0;34m\u001b[0m\u001b[0m\n\u001b[1;32m    300\u001b[0m     \u001b[0;32mif\u001b[0m \u001b[0msix\u001b[0m\u001b[0;34m.\u001b[0m\u001b[0mPY3\u001b[0m\u001b[0;34m:\u001b[0m\u001b[0;34m\u001b[0m\u001b[0m\n\u001b[0;32m--> 301\u001b[0;31m         \u001b[0;32mreturn\u001b[0m \u001b[0mopen\u001b[0m\u001b[0;34m(\u001b[0m\u001b[0mparsed_uri\u001b[0m\u001b[0;34m.\u001b[0m\u001b[0muri_path\u001b[0m\u001b[0;34m,\u001b[0m \u001b[0mmode\u001b[0m\u001b[0;34m,\u001b[0m \u001b[0mbuffering\u001b[0m\u001b[0;34m=\u001b[0m\u001b[0mbuffering\u001b[0m\u001b[0;34m,\u001b[0m \u001b[0;34m**\u001b[0m\u001b[0mopen_kwargs\u001b[0m\u001b[0;34m)\u001b[0m\u001b[0;34m\u001b[0m\u001b[0m\n\u001b[0m\u001b[1;32m    302\u001b[0m     \u001b[0;32melif\u001b[0m \u001b[0;32mnot\u001b[0m \u001b[0mopen_kwargs\u001b[0m\u001b[0;34m:\u001b[0m\u001b[0;34m\u001b[0m\u001b[0m\n\u001b[1;32m    303\u001b[0m         \u001b[0;32mreturn\u001b[0m \u001b[0mopen\u001b[0m\u001b[0;34m(\u001b[0m\u001b[0mparsed_uri\u001b[0m\u001b[0;34m.\u001b[0m\u001b[0muri_path\u001b[0m\u001b[0;34m,\u001b[0m \u001b[0mmode\u001b[0m\u001b[0;34m,\u001b[0m \u001b[0mbuffering\u001b[0m\u001b[0;34m=\u001b[0m\u001b[0mbuffering\u001b[0m\u001b[0;34m)\u001b[0m\u001b[0;34m\u001b[0m\u001b[0m\n",
      "\u001b[0;31mFileNotFoundError\u001b[0m: [Errno 2] No such file or directory: 'models/lda40x3trim0-1.model'"
     ]
    }
   ],
   "source": [
    "count_vectorizer = pickle.load(open(\"count_vectorizer.pickle\",\"rb\"))\n",
    "counts = pickle.load(open(\"counts.pickle\",\"rb\"))\n",
    "corpus = pickle.load(open(\"corpus.pickle\",\"rb\"))\n",
    "id2word = pickle.load(open(\"id2word.pickle\",\"rb\"))"
   ]
  },
  {
   "cell_type": "code",
   "execution_count": 8,
   "metadata": {},
   "outputs": [],
   "source": [
    "count_vectorizer = CountVectorizer(ngram_range=(1,3), lowercase=True, \n",
    "                                   stop_words='english', min_df=3, max_df=0.1)\n",
    "\n",
    "counts = count_vectorizer.fit_transform(abs_lemma).transpose()\n",
    "\n",
    "corpus = matutils.Sparse2Corpus(counts)\n",
    "id2word = dict((v, k) for k, v in count_vectorizer.vocabulary_.items())\n",
    "\n",
    "pickle_out = open(\"count_vectorizer.pickle\",\"wb\")\n",
    "pickle.dump(count_vectorizer, pickle_out)\n",
    "pickle_out.close()\n",
    "\n",
    "pickle_out = open(\"counts.pickle\",\"wb\")\n",
    "pickle.dump(counts, pickle_out)\n",
    "pickle_out.close()\n",
    "\n",
    "pickle_out = open(\"corpus.pickle\",\"wb\")\n",
    "pickle.dump(corpus, pickle_out)\n",
    "pickle_out.close()\n",
    "\n",
    "pickle_out = open(\"id2word.pickle\",\"wb\")\n",
    "pickle.dump(id2word, pickle_out)\n",
    "pickle_out.close()"
   ]
  },
  {
   "cell_type": "code",
   "execution_count": 2,
   "metadata": {},
   "outputs": [
    {
     "ename": "NameError",
     "evalue": "name 'corpus' is not defined",
     "output_type": "error",
     "traceback": [
      "\u001b[0;31m---------------------------------------------------------------------------\u001b[0m",
      "\u001b[0;31mNameError\u001b[0m                                 Traceback (most recent call last)",
      "\u001b[0;32m<ipython-input-2-68c7b2b04ee2>\u001b[0m in \u001b[0;36m<module>\u001b[0;34m\u001b[0m\n\u001b[0;32m----> 1\u001b[0;31m model = models.LdaModel(corpus=corpus, num_topics=40, minimum_probability=0.003, \n\u001b[0m\u001b[1;32m      2\u001b[0m                         id2word=id2word, passes=10, chunksize=10000, update_every=10)\n",
      "\u001b[0;31mNameError\u001b[0m: name 'corpus' is not defined"
     ]
    }
   ],
   "source": [
    "model = models.LdaModel(corpus=corpus, num_topics=40, minimum_probability=0.003, \n",
    "                        id2word=id2word, passes=10, chunksize=10000, update_every=10)\n",
    "\n",
    "model.save('models/lda40x3trim0-1.model')"
   ]
  },
  {
   "cell_type": "code",
   "execution_count": 9,
   "metadata": {},
   "outputs": [
    {
     "name": "stderr",
     "output_type": "stream",
     "text": [
      "2018-11-20 11:15:57,584 : INFO : topic #0 (0.025): 0.003*\"cd8\" + 0.002*\"cd8 cell\" + 0.002*\"infection\" + 0.002*\"cd4\" + 0.002*\"hiv\"\n",
      "2018-11-20 11:15:57,590 : INFO : topic #1 (0.025): 0.005*\"virus\" + 0.005*\"rna\" + 0.003*\"specie\" + 0.003*\"host\" + 0.003*\"evolution\"\n",
      "2018-11-20 11:15:57,599 : INFO : topic #2 (0.025): 0.009*\"material\" + 0.008*\"reaction\" + 0.006*\"synthesis\" + 0.005*\"property\" + 0.005*\"polymer\"\n",
      "2018-11-20 11:15:57,607 : INFO : topic #3 (0.025): 0.006*\"galaxy\" + 0.005*\"star\" + 0.005*\"mass\" + 0.003*\"black\" + 0.003*\"hole\"\n",
      "2018-11-20 11:15:57,620 : INFO : topic #4 (0.025): 0.003*\"asthma\" + 0.002*\"variant\" + 0.002*\"health\" + 0.001*\"major\" + 0.001*\"individual\"\n",
      "2018-11-20 11:15:57,625 : INFO : topic #5 (0.025): 0.006*\"mg\" + 0.005*\"month\" + 0.005*\"phase\" + 0.004*\"week\" + 0.004*\"dose\"\n",
      "2018-11-20 11:15:57,633 : INFO : topic #6 (0.025): 0.005*\"month\" + 0.004*\"placebo\" + 0.004*\"score\" + 0.004*\"woman\" + 0.003*\"day\"\n",
      "2018-11-20 11:15:57,642 : INFO : topic #7 (0.025): 0.010*\"stem\" + 0.009*\"stem cell\" + 0.003*\"genome\" + 0.003*\"mouse\" + 0.003*\"pluripotent\"\n",
      "2018-11-20 11:15:57,654 : INFO : topic #8 (0.025): 0.009*\"state\" + 0.007*\"quantum\" + 0.005*\"phase\" + 0.003*\"atom\" + 0.003*\"transition\"\n",
      "2018-11-20 11:15:57,661 : INFO : topic #9 (0.025): 0.006*\"mutation\" + 0.004*\"egfr\" + 0.003*\"tumor\" + 0.003*\"survival\" + 0.002*\"braf\"\n",
      "2018-11-20 11:15:57,671 : INFO : topic #10 (0.025): 0.008*\"neuron\" + 0.006*\"receptor\" + 0.004*\"binding\" + 0.004*\"domain\" + 0.003*\"brain\"\n",
      "2018-11-20 11:15:57,679 : INFO : topic #11 (0.025): 0.004*\"nk\" + 0.004*\"nk cell\" + 0.003*\"diabetes\" + 0.003*\"insulin\" + 0.003*\"infection\"\n",
      "2018-11-20 11:15:57,689 : INFO : topic #12 (0.025): 0.021*\"quantum\" + 0.008*\"dna\" + 0.005*\"state\" + 0.004*\"photon\" + 0.004*\"methylation\"\n",
      "2018-11-20 11:15:57,699 : INFO : topic #13 (0.025): 0.006*\"rna\" + 0.005*\"transcription\" + 0.003*\"genome\" + 0.003*\"site\" + 0.003*\"chromatin\"\n",
      "2018-11-20 11:15:57,707 : INFO : topic #14 (0.025): 0.004*\"mouse\" + 0.003*\"acid\" + 0.002*\"drug\" + 0.002*\"muscle\" + 0.002*\"tumor\"\n",
      "2018-11-20 11:15:57,715 : INFO : topic #15 (0.025): 0.003*\"kidney\" + 0.002*\"genetic\" + 0.002*\"dna\" + 0.002*\"survival\" + 0.001*\"individual\"\n",
      "2018-11-20 11:15:57,721 : INFO : topic #16 (0.025): 0.012*\"mutation\" + 0.003*\"tumour\" + 0.003*\"ovarian\" + 0.003*\"tumor\" + 0.002*\"family\"\n",
      "2018-11-20 11:15:57,726 : INFO : topic #17 (0.025): 0.007*\"tumor\" + 0.007*\"mutation\" + 0.005*\"genetic\" + 0.004*\"tumour\" + 0.003*\"sequencing\"\n",
      "2018-11-20 11:15:57,735 : INFO : topic #18 (0.025): 0.005*\"survivor\" + 0.004*\"screening\" + 0.002*\"health\" + 0.002*\"prostate\" + 0.002*\"childhood\"\n",
      "2018-11-20 11:15:57,750 : INFO : topic #19 (0.025): 0.004*\"temperature\" + 0.004*\"circadian\" + 0.004*\"carbon\" + 0.003*\"clock\" + 0.002*\"climate\"\n",
      "2018-11-20 11:15:57,757 : INFO : topic #20 (0.025): 0.004*\"mantle\" + 0.003*\"material\" + 0.002*\"earthquake\" + 0.002*\"large\" + 0.002*\"plate\"\n",
      "2018-11-20 11:15:57,771 : INFO : topic #21 (0.025): 0.007*\"mouse\" + 0.006*\"pathway\" + 0.005*\"immune\" + 0.005*\"activation\" + 0.005*\"signaling\"\n",
      "2018-11-20 11:15:57,778 : INFO : topic #22 (0.025): 0.005*\"stent\" + 0.003*\"star\" + 0.003*\"field\" + 0.003*\"planet\" + 0.002*\"magnetic\"\n",
      "2018-11-20 11:15:57,785 : INFO : topic #23 (0.025): 0.010*\"rna\" + 0.008*\"dna\" + 0.004*\"mrna\" + 0.004*\"target\" + 0.003*\"genome\"\n",
      "2018-11-20 11:15:57,790 : INFO : topic #24 (0.025): 0.005*\"event\" + 0.004*\"death\" + 0.004*\"mortality\" + 0.003*\"background\" + 0.003*\"week\"\n",
      "2018-11-20 11:15:57,800 : INFO : topic #25 (0.025): 0.003*\"vascular\" + 0.003*\"growth\" + 0.002*\"endothelial\" + 0.002*\"hscs\" + 0.002*\"blood\"\n",
      "2018-11-20 11:15:57,811 : INFO : topic #26 (0.025): 0.009*\"survival\" + 0.005*\"breast\" + 0.005*\"chemotherapy\" + 0.004*\"breast cancer\" + 0.004*\"tumor\"\n",
      "2018-11-20 11:15:57,820 : INFO : topic #27 (0.025): 0.005*\"drug\" + 0.002*\"health\" + 0.002*\"population\" + 0.002*\"histone\" + 0.001*\"genetic\"\n",
      "2018-11-20 11:15:57,830 : INFO : topic #28 (0.025): 0.006*\"material\" + 0.005*\"device\" + 0.004*\"energy\" + 0.004*\"surface\" + 0.004*\"property\"\n",
      "2018-11-20 11:15:57,841 : INFO : topic #29 (0.025): 0.009*\"association\" + 0.007*\"variant\" + 0.006*\"genetic\" + 0.006*\"locus\" + 0.005*\"snp\"\n",
      "2018-11-20 11:15:57,855 : INFO : topic #30 (0.025): 0.005*\"brain\" + 0.002*\"pathway\" + 0.002*\"dna\" + 0.002*\"surface\" + 0.002*\"disorder\"\n",
      "2018-11-20 11:15:57,868 : INFO : topic #31 (0.025): 0.005*\"chromosome\" + 0.004*\"genome\" + 0.003*\"mutation\" + 0.003*\"sequence\" + 0.002*\"dna\"\n",
      "2018-11-20 11:15:57,876 : INFO : topic #32 (0.025): 0.003*\"virus\" + 0.003*\"mutation\" + 0.003*\"hiv1\" + 0.002*\"genetic\" + 0.002*\"rna\"\n",
      "2018-11-20 11:15:57,885 : INFO : topic #33 (0.025): 0.003*\"parasite\" + 0.003*\"malaria\" + 0.002*\"host\" + 0.002*\"aml\" + 0.002*\"plasmodium\"\n",
      "2018-11-20 11:15:57,894 : INFO : topic #34 (0.025): 0.006*\"survival\" + 0.006*\"prostate\" + 0.005*\"prostate cancer\" + 0.004*\"month\" + 0.003*\"overall\"\n",
      "2018-11-20 11:15:57,900 : INFO : topic #35 (0.025): 0.005*\"energy\" + 0.005*\"fuel\" + 0.004*\"co2\" + 0.004*\"water\" + 0.004*\"carbon\"\n",
      "2018-11-20 11:15:57,909 : INFO : topic #36 (0.025): 0.006*\"care\" + 0.005*\"health\" + 0.003*\"participant\" + 0.003*\"mortality\" + 0.003*\"intervention\"\n",
      "2018-11-20 11:15:57,922 : INFO : topic #37 (0.025): 0.003*\"energy\" + 0.002*\"dna\" + 0.002*\"storage\" + 0.002*\"battery\" + 0.002*\"specific\"\n",
      "2018-11-20 11:15:57,933 : INFO : topic #38 (0.025): 0.006*\"climate\" + 0.005*\"ice\" + 0.005*\"ocean\" + 0.004*\"global\" + 0.003*\"water\"\n",
      "2018-11-20 11:15:57,942 : INFO : topic #39 (0.025): 0.005*\"laser\" + 0.004*\"optical\" + 0.003*\"pulse\" + 0.002*\"light\" + 0.002*\"nonlinear\"\n"
     ]
    }
   ],
   "source": [
    "topics = model.print_topics(num_topics=40, num_words=5)[:]"
   ]
  },
  {
   "cell_type": "code",
   "execution_count": 39,
   "metadata": {},
   "outputs": [
    {
     "name": "stderr",
     "output_type": "stream",
     "text": [
      "2018-11-14 13:23:44,206 : INFO : -10.966 per-word bound, 2000.7 perplexity estimate based on a held-out corpus of 71161 documents with 11775812 words\n"
     ]
    },
    {
     "data": {
      "text/plain": [
       "-10.966267438786248"
      ]
     },
     "execution_count": 39,
     "metadata": {},
     "output_type": "execute_result"
    }
   ],
   "source": [
    "model.log_perplexity(corpus)"
   ]
  },
  {
   "cell_type": "code",
   "execution_count": 10,
   "metadata": {},
   "outputs": [
    {
     "name": "stdout",
     "output_type": "stream",
     "text": [
      "['cd8', 'cd8 cell', 'infection', 'cd4', 'hiv']\n",
      "['virus', 'rna', 'specie', 'host', 'evolution']\n",
      "['material', 'reaction', 'synthesis', 'property', 'polymer']\n",
      "['galaxy', 'star', 'mass', 'black', 'hole']\n",
      "['asthma', 'variant', 'health', 'major', 'individual']\n",
      "['mg', 'month', 'phase', 'week', 'dose']\n",
      "['month', 'placebo', 'score', 'woman', 'day']\n"
     ]
    }
   ],
   "source": [
    "#A snippet of code to generate better formatted top words in each topic for use in presentations. \n",
    "\n",
    "a = topics[0:7]\n",
    "b = [x[1] for x in a]\n",
    "\n",
    "for i in range(len(a)):\n",
    "    c = b[i].replace('+', '*')\n",
    "    d = c.split('*')[1::2]\n",
    "    print([x.strip().replace('\"', '') for x in d])"
   ]
  },
  {
   "cell_type": "code",
   "execution_count": 16,
   "metadata": {},
   "outputs": [],
   "source": [
    "lda_corpus = model[corpus]\n",
    "\n",
    "lda_docs = [doc for doc in lda_corpus]"
   ]
  },
  {
   "cell_type": "code",
   "execution_count": 26,
   "metadata": {},
   "outputs": [],
   "source": [
    "def Topic_Rao_Stirling(lda_doc, cos_sims):\n",
    "    SDI = 0\n",
    "    for itema in lda_doc:\n",
    "        for itemb in lda_doc:\n",
    "            distance = 1-cos_sims[itema[0], itemb[0]]\n",
    "            SDI += distance*itema[1]*itemb[1]\n",
    "    return SDI"
   ]
  },
  {
   "cell_type": "markdown",
   "metadata": {},
   "source": [
    "For several of the next calculations, we need the topics as vectorized probability distributions. This function does that."
   ]
  },
  {
   "cell_type": "code",
   "execution_count": 11,
   "metadata": {},
   "outputs": [
    {
     "name": "stderr",
     "output_type": "stream",
     "text": [
      "0% [##############################] 100% | ETA: 00:00:00\n",
      "Total time elapsed: 00:00:22\n"
     ]
    }
   ],
   "source": [
    "vectors = []\n",
    "\n",
    "topn=500000\n",
    "\n",
    "v = len(id2word)\n",
    "\n",
    "progbar = pyprind.ProgBar(len(topics))\n",
    "\n",
    "for k in range(len(topics)):\n",
    "    vec = np.zeros(v)\n",
    "    a = model.get_topic_terms(k, topn=v)\n",
    "    for item in a:\n",
    "        vec[item[0]]=item[1]\n",
    "    vectors.append(vec)\n",
    "    progbar.update()\n",
    "    \n",
    "topic_vectors = vectors"
   ]
  },
  {
   "cell_type": "markdown",
   "metadata": {},
   "source": [
    "We can visualize the cosine distance between all pairs of topics as a heatmap to see they are generally distinct, with a mean distance of 0.64."
   ]
  },
  {
   "cell_type": "code",
   "execution_count": 13,
   "metadata": {},
   "outputs": [
    {
     "name": "stderr",
     "output_type": "stream",
     "text": [
      "0% [##############################] 100% | ETA: 00:00:00\n",
      "Total time elapsed: 00:00:08\n"
     ]
    },
    {
     "data": {
      "text/plain": [
       "<matplotlib.axes._subplots.AxesSubplot at 0x7efe763bf518>"
      ]
     },
     "execution_count": 13,
     "metadata": {},
     "output_type": "execute_result"
    },
    {
     "data": {
      "image/png": "[encoded data removed]",
      "text/plain": [
       "<Figure size 432x288 with 2 Axes>"
      ]
     },
     "metadata": {
      "needs_background": "light"
     },
     "output_type": "display_data"
    }
   ],
   "source": [
    "cos_dists = np.zeros(shape=(len(topics), len(topics)))\n",
    "\n",
    "progbar= pyprind.ProgBar(len(topics)**2)\n",
    "\n",
    "for k in range(len(topics)):\n",
    "    a = topic_vectors[k]\n",
    "    for m in range(len(topics)):\n",
    "        b=topic_vectors[m]\n",
    "        cos_dists[k, m] = cosine(a, b)\n",
    "        progbar.update()\n",
    "\n",
    "sns.heatmap(cos_dists, cmap='rocket_r')"
   ]
  },
  {
   "cell_type": "code",
   "execution_count": 14,
   "metadata": {},
   "outputs": [
    {
     "data": {
      "text/plain": [
       "0.6421065894282723"
      ]
     },
     "execution_count": 14,
     "metadata": {},
     "output_type": "execute_result"
    }
   ],
   "source": [
    "np.mean(cos_dists)"
   ]
  },
  {
   "cell_type": "markdown",
   "metadata": {},
   "source": [
    "One possible measure of interdisciplinarity is the topic [Rao-Stirling score](https://www.ncbi.nlm.nih.gov/pmc/articles/PMC2373389/) which is calculated by using the standard Rao-Stirling measure with the distance provided by the cosine distance calculated above."
   ]
  },
  {
   "cell_type": "code",
   "execution_count": 17,
   "metadata": {},
   "outputs": [
    {
     "name": "stderr",
     "output_type": "stream",
     "text": [
      "0% [##############################] 100% | ETA: 00:00:00\n",
      "Total time elapsed: 00:00:06\n"
     ]
    }
   ],
   "source": [
    "def Topic_Rao_Stirling(lda_doc, cos_dists):\n",
    "    residue = 1 - sum([x[1] for x in lda_doc])\n",
    "    lda_doc.append(('residue', residue))\n",
    "    SDI = 0\n",
    "    for itema in lda_doc:\n",
    "        for itemb in lda_doc:\n",
    "            try:\n",
    "                distance = cos_dists[itema[0], itemb[0]]\n",
    "            except:\n",
    "                distance = 1\n",
    "            SDI += distance*itema[1]*itemb[1]\n",
    "    return SDI\n",
    "\n",
    "topic_SDI = dict()\n",
    "keys = list(data.keys())\n",
    "\n",
    "progbar = pyprind.ProgBar(len(data))\n",
    "\n",
    "for i in range(len(lda_docs)):\n",
    "    key = keys[i]\n",
    "    value = Topic_Rao_Stirling(lda_docs[i], cos_dists)\n",
    "    topic_SDI[key] = value\n",
    "    progbar.update()"
   ]
  },
  {
   "cell_type": "code",
   "execution_count": 165,
   "metadata": {},
   "outputs": [
    {
     "name": "stderr",
     "output_type": "stream",
     "text": [
      "0% [##############################] 100% | ETA: 00:00:00\n",
      "Total time elapsed: 00:00:34\n"
     ]
    }
   ],
   "source": [
    "progbar = pyprind.ProgBar(len(topic_SDI))\n",
    "\n",
    "for item in topic_SDI:\n",
    "    fletcher.update_one({'_id':item}, {\"$set\":{\"LDA40x3Trim01\":topic_SDI[item]}})\n",
    "    progbar.update()"
   ]
  },
  {
   "cell_type": "markdown",
   "metadata": {},
   "source": [
    "An alternative measure of the distance between probability distributions is the [Jensen-Shannon divergence](https://en.wikipedia.org/wiki/Jensen%E2%80%93Shannon_divergence). I wound up using this to calculate the Novelty score."
   ]
  },
  {
   "cell_type": "code",
   "execution_count": 18,
   "metadata": {},
   "outputs": [],
   "source": [
    "def JSD(P, Q):\n",
    "    _P = P / norm(P, ord=1)\n",
    "    _Q = Q / norm(Q, ord=1)\n",
    "    _M = 0.5 * (_P + _Q)\n",
    "    return 0.5 * (entropy(_P, _M) + entropy(_Q, _M))"
   ]
  },
  {
   "cell_type": "code",
   "execution_count": 20,
   "metadata": {},
   "outputs": [
    {
     "name": "stderr",
     "output_type": "stream",
     "text": [
      "0% [##############################] 100% | ETA: 00:00:00\n",
      "Total time elapsed: 00:01:52\n"
     ]
    },
    {
     "data": {
      "text/plain": [
       "<matplotlib.axes._subplots.AxesSubplot at 0x7efe4327d4a8>"
      ]
     },
     "execution_count": 20,
     "metadata": {},
     "output_type": "execute_result"
    },
    {
     "data": {
      "image/png": "[encoded data removed]",
      "text/plain": [
       "<Figure size 432x288 with 2 Axes>"
      ]
     },
     "metadata": {
      "needs_background": "light"
     },
     "output_type": "display_data"
    }
   ],
   "source": [
    "progbar= pyprind.ProgBar(len(vectors)**2)\n",
    "\n",
    "jsd_sims =  np.zeros(shape=(len(vectors), len(vectors)))\n",
    "for k in range(len(topics)):\n",
    "    a = vectors[k]\n",
    "    for m in range(len(topics)):\n",
    "        b = vectors[m]\n",
    "        jsd_sims[k, m] = np.sqrt(JSD(a,b))\n",
    "        progbar.update()\n",
    "\n",
    "\n",
    "sns.heatmap(jsd_sims, cmap='rocket_r')"
   ]
  },
  {
   "cell_type": "markdown",
   "metadata": {},
   "source": [
    "This calculautes a Rao-Stirling diversity index using the Jensen-Shannon difference between topics."
   ]
  },
  {
   "cell_type": "code",
   "execution_count": 21,
   "metadata": {},
   "outputs": [
    {
     "data": {
      "text/plain": [
       "0.4952375217168997"
      ]
     },
     "execution_count": 21,
     "metadata": {},
     "output_type": "execute_result"
    }
   ],
   "source": [
    "def Topic_JSD(lda_doc, jsd_sims):\n",
    "    residue = 1 - sum([x[1] for x in lda_doc])\n",
    "    if residue != 0:\n",
    "        lda_doc.append(('residue', residue))\n",
    "    JSD = 0\n",
    "    for itema in lda_doc:\n",
    "        for itemb in lda_doc:\n",
    "            try:\n",
    "                distance = jsd_sims[itema[0], itemb[0]]\n",
    "            except:\n",
    "                distance = 1\n",
    "            JSD += distance*itema[1]*itemb[1]\n",
    "    return JSD\n",
    "\n",
    "Topic_JSD(lda_docs[0], jsd_sims)"
   ]
  },
  {
   "cell_type": "code",
   "execution_count": 174,
   "metadata": {},
   "outputs": [
    {
     "name": "stderr",
     "output_type": "stream",
     "text": [
      "0% [##############################] 100% | ETA: 00:00:00\n",
      "Total time elapsed: 00:00:05\n"
     ]
    }
   ],
   "source": [
    "topic_JSD = dict()\n",
    "keys = list(data.keys())\n",
    "\n",
    "progbar = pyprind.ProgBar(len(data))\n",
    "\n",
    "for i in range(len(lda_docs)):\n",
    "    key = keys[i]\n",
    "    value = Topic_JSD(lda_docs[i], jsd_sims)\n",
    "    topic_JSD[key] = value\n",
    "    progbar.update()"
   ]
  },
  {
   "cell_type": "code",
   "execution_count": 175,
   "metadata": {},
   "outputs": [
    {
     "name": "stderr",
     "output_type": "stream",
     "text": [
      "0% [##############################] 100% | ETA: 00:00:00\n",
      "Total time elapsed: 00:00:31\n"
     ]
    }
   ],
   "source": [
    "progbar = pyprind.ProgBar(len(topic_JSD))\n",
    "\n",
    "for item in topic_JSD:\n",
    "    fletcher.update_one({'_id':item}, {\"$set\":{\"JSD40x3Trim01\":topic_JSD[item]}})\n",
    "    progbar.update()"
   ]
  },
  {
   "cell_type": "markdown",
   "metadata": {},
   "source": [
    "These functions allow us to calculate the Jensen-Shannon divergence between an abstract in our corpus and the topics which it is composed of according to the LDA model.  This function takes about 0.06 seconds to run, which means an hour to calculate for the whole dataset.  \n",
    "\n",
    "I'm not sure that there are meaningful improvements to be found. Most of the time is spent in the JSD function, which is already vectorized."
   ]
  },
  {
   "cell_type": "code",
   "execution_count": 25,
   "metadata": {},
   "outputs": [
    {
     "data": {
      "text/plain": [
       "array([1.67906367e-05, 6.16086171e-07, 5.24381735e-06, ...,\n",
       "       2.50334224e-06, 2.61906699e-06, 1.39935081e-07])"
      ]
     },
     "execution_count": 25,
     "metadata": {},
     "output_type": "execute_result"
    }
   ],
   "source": [
    "def ab2vec(corp, v):\n",
    "    vec = np.zeros(v)\n",
    "    for item in corp:\n",
    "        vec[item[0]]= item[1]\n",
    "    return vec\n",
    "\n",
    "a = ab2vec(corpus[0],v)\n",
    "\n",
    "def topic_combiner(doc, topic_vectors):\n",
    "    vec = np.zeros(len(topic_vectors[0]))\n",
    "    for item in doc:\n",
    "        try:\n",
    "            vec += topic_vectors[item[0]]*item[1]\n",
    "        except:\n",
    "            pass\n",
    "    return vec"
   ]
  },
  {
   "cell_type": "code",
   "execution_count": 34,
   "metadata": {},
   "outputs": [
    {
     "name": "stdout",
     "output_type": "stream",
     "text": [
      "Novelty 0.6865\n",
      "time: 0.0102\n"
     ]
    }
   ],
   "source": [
    "t0 = time.time()\n",
    "a = ab2vec(corpus[0],v)\n",
    "b = topic_combiner(lda_docs[0], topic_vectors)\n",
    "print('Novelty %.4f' % JSD(a, b))\n",
    "t1 = time.time()\n",
    "print('time: %.4f' % (t1-t0))"
   ]
  },
  {
   "cell_type": "code",
   "execution_count": 189,
   "metadata": {},
   "outputs": [
    {
     "name": "stderr",
     "output_type": "stream",
     "text": [
      "tJSD\n",
      "0% [#############                 ] 100% | ETA: 00:36:22/home/michael/.local/lib/python3.6/site-packages/ipykernel_launcher.py:2: RuntimeWarning: invalid value encountered in true_divide\n",
      "  \n",
      "0% [##############################] 100% | ETA: 00:00:00\n",
      "Total time elapsed: 01:04:04\n"
     ]
    }
   ],
   "source": [
    "novelty = dict()\n",
    "keys = list(data.keys())\n",
    "\n",
    "progbar = pyprind.ProgBar(len(data), title='tJSD')\n",
    "\n",
    "for i in range(len(lda_docs)):\n",
    "    key = keys[i]\n",
    "    a = ab2vec(corpus[i],v)\n",
    "    b = topic_combiner(lda_docs[i], topic_vectors)\n",
    "    value = JSD(a,b)\n",
    "    novelty[key] = value\n",
    "    progbar.update()"
   ]
  },
  {
   "cell_type": "markdown",
   "metadata": {},
   "source": [
    "And we update each record with the Novelty score."
   ]
  },
  {
   "cell_type": "code",
   "execution_count": 190,
   "metadata": {},
   "outputs": [
    {
     "name": "stderr",
     "output_type": "stream",
     "text": [
      "0% [##############################] 100% | ETA: 00:00:00\n",
      "Total time elapsed: 00:00:32\n"
     ]
    }
   ],
   "source": [
    "progbar = pyprind.ProgBar(len(data))\n",
    "\n",
    "for item in tJSD:\n",
    "    fletcher.update_one({'_id':item}, {\"$set\":{\"Novelty\":tJSD[item]}})\n",
    "    progbar.update()"
   ]
  },
  {
   "cell_type": "markdown",
   "metadata": {},
   "source": [
    "An ugly series of loops to update the database with topics.  It works, it's fast enough, and the project was due."
   ]
  },
  {
   "cell_type": "code",
   "execution_count": 194,
   "metadata": {},
   "outputs": [
    {
     "name": "stderr",
     "output_type": "stream",
     "text": [
      "0% [##############################] 100% | ETA: 00:00:00\n",
      "Total time elapsed: 00:00:00\n"
     ]
    }
   ],
   "source": [
    "lda_docs2 = []\n",
    "\n",
    "progbar = pyprind.ProgBar(len(lda_docs))\n",
    "\n",
    "for a in lda_docs:\n",
    "    b = []\n",
    "    for item in a:\n",
    "        if item[0] != 'residue':\n",
    "            b.append(item)\n",
    "    lda_docs2.append(b)\n",
    "    progbar.update()"
   ]
  },
  {
   "cell_type": "code",
   "execution_count": 198,
   "metadata": {},
   "outputs": [
    {
     "name": "stderr",
     "output_type": "stream",
     "text": [
      "lda_docs3\n",
      "0% [##############################] 100% | ETA: 00:00:00\n",
      "Total time elapsed: 00:00:00\n"
     ]
    }
   ],
   "source": [
    "lda_docs3 = dict()\n",
    "keys = list(data.keys())\n",
    "\n",
    "progbar = pyprind.ProgBar(len(data), title='lda_docs3')\n",
    "\n",
    "for i in range(len(lda_docs)):\n",
    "    key = keys[i]\n",
    "    value = lda_docs2[i]\n",
    "    lda_docs3[key] = value\n",
    "    progbar.update()"
   ]
  },
  {
   "cell_type": "code",
   "execution_count": 206,
   "metadata": {},
   "outputs": [
    {
     "name": "stderr",
     "output_type": "stream",
     "text": [
      "0% [##############################] 100% | ETA: 00:00:00\n",
      "Total time elapsed: 00:00:57\n"
     ]
    }
   ],
   "source": [
    "progbar = pyprind.ProgBar(len(data))\n",
    "\n",
    "for item in lda_docs3:\n",
    "    fletcher.update_one({'_id':item}, {\"$set\":{\"lda_doc\":str(lda_docs3[item])}})\n",
    "    progbar.update()"
   ]
  }
 ],
 "metadata": {
  "kernelspec": {
   "display_name": "Python 3",
   "language": "python",
   "name": "python3"
  },
  "language_info": {
   "codemirror_mode": {
    "name": "ipython",
    "version": 3
   },
   "file_extension": ".py",
   "mimetype": "text/x-python",
   "name": "python",
   "nbconvert_exporter": "python",
   "pygments_lexer": "ipython3",
   "version": "3.6.6"
  }
 },
 "nbformat": 4,
 "nbformat_minor": 2
}
