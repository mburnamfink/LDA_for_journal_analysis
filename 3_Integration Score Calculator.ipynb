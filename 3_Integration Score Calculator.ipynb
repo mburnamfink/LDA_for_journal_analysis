{
 "cells": [
  {
   "cell_type": "code",
   "execution_count": 15,
   "metadata": {},
   "outputs": [],
   "source": [
    "import pymongo as pm\n",
    "import metaknowledge as mk\n",
    "import numpy as np\n",
    "import pandas as pd\n",
    "import pyprind"
   ]
  },
  {
   "cell_type": "markdown",
   "metadata": {},
   "source": [
    "This calculates a Stirling Diversity Index score using Ismael Rafol's cosine-cociting distance matrix and the list of Web of Science journals.  For details on the Stirling Diversity Index see [Seeing the Impact of Interdisciplinary Science Grants](https://medium.com/mbf-data-science/seeing-the-impact-of-interdisciplinary-science-grants-5be5c2342f0d)."
   ]
  },
  {
   "cell_type": "code",
   "execution_count": 2,
   "metadata": {},
   "outputs": [],
   "source": [
    "client = pm.MongoClient()\n",
    "local = client.local\n",
    "local.list_collection_names()\n",
    "fletcher = local.get_collection('fletcher')"
   ]
  },
  {
   "cell_type": "code",
   "execution_count": 17,
   "metadata": {},
   "outputs": [],
   "source": [
    "#import files to let us calculate Rao-Stirling diversity\n",
    "Cosciting = pd.read_csv('CosCiting.csv', sep=',', header=0, index_col=0)\n",
    "JournalCats = pd.read_excel('WoS History Nov 2017.xlsx', header=0)\n",
    "JournalCats.set_index('20 Char', inplace=True)"
   ]
  },
  {
   "cell_type": "code",
   "execution_count": 48,
   "metadata": {},
   "outputs": [],
   "source": [
    "#paperprep converts a record into the format\n",
    "#{Title:{WCs:{AAA:1,BBB:2...},Cites:{CCC:1, DDD:2...}}}\n",
    "#which calculates the Rao-Stirling index\n",
    "#to access a part, use titles[Title]['WCs'] or titles[Title]['Cites'] and titles[Title]['Year'] for publication year\n",
    "\n",
    "def PaperPrep(record, JournalCats):\n",
    "    title = record['TI']\n",
    "    line=record['WC']\n",
    "    year=record['PY']\n",
    "    dic = {}\n",
    "    for item in line:\n",
    "        if item.upper() in dic:\n",
    "            dic[item.upper()] = dic[item.upper()] + 1\n",
    "        else:\n",
    "            dic[item.upper()] = 1\n",
    "    WCs = dic\n",
    "\n",
    "    citeslist =[]\n",
    "    try:\n",
    "        for cite in record['CR']:\n",
    "            cite = str(cite)\n",
    "            try:\n",
    "                journal = cite.split(', ')[2]\n",
    "            except:\n",
    "                pass\n",
    "            try:\n",
    "                category = JournalCats.at[journal, 'WoS Category']\n",
    "                if type(category) == str:\n",
    "                    category = [category.upper()]\n",
    "                if type(category) == np.ndarray:\n",
    "                    catlist = []\n",
    "                    for item in category:\n",
    "                        catlist.append(item.upper())\n",
    "                    category = catlist\n",
    "            except:\n",
    "                category = ['Unknown']\n",
    "            citeslist = citeslist + category\n",
    "    except:\n",
    "        citeslist = ['Unknown']\n",
    "\n",
    "    cites = {}\n",
    "    for item in citeslist:\n",
    "        if item in cites:\n",
    "            cites[item]=cites[item]+1\n",
    "        else:\n",
    "            cites[item] = 1\n",
    "\n",
    "    return({title:{'WCs':WCs,'Cites':cites, 'Year':year}})"
   ]
  },
  {
   "cell_type": "code",
   "execution_count": 49,
   "metadata": {},
   "outputs": [],
   "source": [
    "#RaoStirling takes a list of paper titles, and the prepped record collection.\n",
    "\n",
    "def RaoStirling(samplelist, preppedRC):\n",
    "    if type(samplelist)==str:\n",
    "        samplelist = [samplelist]\n",
    "    n = len(samplelist)\n",
    "    qi = {}\n",
    "    for title in samplelist:\n",
    "        line = preppedRC[title]['WCs']\n",
    "        dic = {}\n",
    "        qi_N = 0.0\n",
    "        for item in line:\n",
    "            if item in dic:\n",
    "                dic[item] = dic[item] +line[item]\n",
    "            else:\n",
    "                dic[item] = line[item]\n",
    "            qi_N = qi_N +line[item]\n",
    "        for WC in dic:\n",
    "            if WC in qi:\n",
    "                qi[WC] = qi[WC] + dic[WC] / qi_N * (1 / n)\n",
    "            else:\n",
    "                qi[WC] = dic[WC] / qi_N * (1 / n)\n",
    "    qj = {}\n",
    "    for title in samplelist:\n",
    "        line = preppedRC[title]['Cites']\n",
    "        dic = {}\n",
    "        qj_N = 0.0\n",
    "        for item in line:\n",
    "            if item in dic:\n",
    "                dic[item] = dic[item] + line[item]\n",
    "            else:\n",
    "                dic[item] = line[item]\n",
    "            qj_N = qj_N + line[item]\n",
    "        for WC in dic:\n",
    "            if WC in qj:\n",
    "                qj[WC]= qj[WC]+dic[WC]/qj_N*(1/n)\n",
    "            else:\n",
    "                qj[WC] = dic[WC]/qj_N*(1/n)\n",
    "    SDI = 0\n",
    "    for WCi in qi:\n",
    "        for WCj in qj:\n",
    "            try:\n",
    "                invdistance = float(Cosciting.loc[WCi.upper(), WCj.upper()])\n",
    "            except :\n",
    "                invdistance = 1\n",
    "            SDI = SDI + (1-invdistance)*qi[WCi]*qj[WCj]\n",
    "    return(SDI)"
   ]
  },
  {
   "cell_type": "code",
   "execution_count": 21,
   "metadata": {},
   "outputs": [
    {
     "data": {
      "text/plain": [
       "{\"Gilead's deal of a lifetime\": {'WCs': {'BIOTECHNOLOGY & APPLIED MICROBIOLOGY': 1},\n",
       "  'Cites': {'ECONOMICS': 1, 'Unknown': 1},\n",
       "  'Year': 2009}}"
      ]
     },
     "execution_count": 21,
     "metadata": {},
     "output_type": "execute_result"
    }
   ],
   "source": [
    "b = PaperPrep(a, JournalCats)\n",
    "b"
   ]
  },
  {
   "cell_type": "code",
   "execution_count": 23,
   "metadata": {},
   "outputs": [
    {
     "data": {
      "text/plain": [
       "0.499"
      ]
     },
     "execution_count": 23,
     "metadata": {},
     "output_type": "execute_result"
    }
   ],
   "source": [
    "RaoStirling(\"Gilead's deal of a lifetime\", b)"
   ]
  },
  {
   "cell_type": "code",
   "execution_count": 55,
   "metadata": {},
   "outputs": [
    {
     "name": "stderr",
     "output_type": "stream",
     "text": [
      "/home/michael/.local/lib/python3.6/site-packages/ipykernel_launcher.py:1: DeprecationWarning: count is deprecated. Use estimated_document_count or count_documents instead. Please note that $where must be replaced by $expr, $near must be replaced by $geoWithin with $center, and $nearSphere must be replaced by $geoWithin with $centerSphere\n",
      "  \"\"\"Entry point for launching an IPython kernel.\n",
      "0% [############################################################################### ] 100% | ETA: 00:00:57\n",
      "Total time elapsed: 02:04:16\n"
     ]
    }
   ],
   "source": [
    "progbar = pyprind.ProgBar(fletcher.count(), width=80, update_interval=60)\n",
    "\n",
    "data = {}\n",
    "\n",
    "for a in fletcher.find():\n",
    "    try:\n",
    "        b = PaperPrep(a, JournalCats)\n",
    "        SDI = RaoStirling(a['TI'], b)\n",
    "        ident = a['_id']\n",
    "        fletcher.update_one({'_id': ident}, {\"$set\":{\"SDI\": SDI}})\n",
    "    except:\n",
    "        pass\n",
    "    progbar.update()"
   ]
  }
 ],
 "metadata": {
  "kernelspec": {
   "display_name": "Python 3",
   "language": "python",
   "name": "python3"
  },
  "language_info": {
   "codemirror_mode": {
    "name": "ipython",
    "version": 3
   },
   "file_extension": ".py",
   "mimetype": "text/x-python",
   "name": "python",
   "nbconvert_exporter": "python",
   "pygments_lexer": "ipython3",
   "version": "3.6.6"
  }
 },
 "nbformat": 4,
 "nbformat_minor": 2
}
